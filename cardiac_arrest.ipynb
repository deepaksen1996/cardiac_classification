{
 "cells": [
  {
   "cell_type": "code",
   "execution_count": 1,
   "metadata": {},
   "outputs": [],
   "source": [
    "import numpy as np # linear algebra\n",
    "import pandas as pd # data processing, CSV file I/O (e.g. pd.read_csv)\n",
    "from matplotlib import pyplot as plt\n",
    "import seaborn as sns\n",
    "import scipy.stats as stats\n",
    "from sklearn.linear_model import LogisticRegression\n",
    "from sklearn.model_selection import train_test_split, GridSearchCV\n",
    "from sklearn.metrics import roc_auc_score, accuracy_score\n",
    "from sklearn import linear_model, preprocessing\n",
    "from sklearn.preprocessing import RobustScaler\n",
    "from sklearn.ensemble import RandomForestClassifier\n",
    "from lightgbm import LGBMClassifier\n",
    "from sklearn.ensemble import VotingClassifier "
   ]
  },
  {
   "cell_type": "markdown",
   "metadata": {},
   "source": [
    "# Classification"
   ]
  },
  {
   "cell_type": "code",
   "execution_count": 2,
   "metadata": {},
   "outputs": [
    {
     "data": {
      "text/html": [
       "<div>\n",
       "<style scoped>\n",
       "    .dataframe tbody tr th:only-of-type {\n",
       "        vertical-align: middle;\n",
       "    }\n",
       "\n",
       "    .dataframe tbody tr th {\n",
       "        vertical-align: top;\n",
       "    }\n",
       "\n",
       "    .dataframe thead th {\n",
       "        text-align: right;\n",
       "    }\n",
       "</style>\n",
       "<table border=\"1\" class=\"dataframe\">\n",
       "  <thead>\n",
       "    <tr style=\"text-align: right;\">\n",
       "      <th></th>\n",
       "      <th>id</th>\n",
       "      <th>age</th>\n",
       "      <th>gender</th>\n",
       "      <th>height</th>\n",
       "      <th>weight</th>\n",
       "      <th>ap_hi</th>\n",
       "      <th>ap_lo</th>\n",
       "      <th>cholesterol</th>\n",
       "      <th>gluc</th>\n",
       "      <th>smoke</th>\n",
       "      <th>alco</th>\n",
       "      <th>active</th>\n",
       "      <th>cardio</th>\n",
       "    </tr>\n",
       "  </thead>\n",
       "  <tbody>\n",
       "    <tr>\n",
       "      <td>0</td>\n",
       "      <td>0</td>\n",
       "      <td>18393</td>\n",
       "      <td>2</td>\n",
       "      <td>168</td>\n",
       "      <td>62.0</td>\n",
       "      <td>110</td>\n",
       "      <td>80</td>\n",
       "      <td>1</td>\n",
       "      <td>1</td>\n",
       "      <td>0</td>\n",
       "      <td>0</td>\n",
       "      <td>1</td>\n",
       "      <td>0</td>\n",
       "    </tr>\n",
       "    <tr>\n",
       "      <td>1</td>\n",
       "      <td>1</td>\n",
       "      <td>20228</td>\n",
       "      <td>1</td>\n",
       "      <td>156</td>\n",
       "      <td>85.0</td>\n",
       "      <td>140</td>\n",
       "      <td>90</td>\n",
       "      <td>3</td>\n",
       "      <td>1</td>\n",
       "      <td>0</td>\n",
       "      <td>0</td>\n",
       "      <td>1</td>\n",
       "      <td>1</td>\n",
       "    </tr>\n",
       "    <tr>\n",
       "      <td>2</td>\n",
       "      <td>2</td>\n",
       "      <td>18857</td>\n",
       "      <td>1</td>\n",
       "      <td>165</td>\n",
       "      <td>64.0</td>\n",
       "      <td>130</td>\n",
       "      <td>70</td>\n",
       "      <td>3</td>\n",
       "      <td>1</td>\n",
       "      <td>0</td>\n",
       "      <td>0</td>\n",
       "      <td>0</td>\n",
       "      <td>1</td>\n",
       "    </tr>\n",
       "    <tr>\n",
       "      <td>3</td>\n",
       "      <td>3</td>\n",
       "      <td>17623</td>\n",
       "      <td>2</td>\n",
       "      <td>169</td>\n",
       "      <td>82.0</td>\n",
       "      <td>150</td>\n",
       "      <td>100</td>\n",
       "      <td>1</td>\n",
       "      <td>1</td>\n",
       "      <td>0</td>\n",
       "      <td>0</td>\n",
       "      <td>1</td>\n",
       "      <td>1</td>\n",
       "    </tr>\n",
       "    <tr>\n",
       "      <td>4</td>\n",
       "      <td>4</td>\n",
       "      <td>17474</td>\n",
       "      <td>1</td>\n",
       "      <td>156</td>\n",
       "      <td>56.0</td>\n",
       "      <td>100</td>\n",
       "      <td>60</td>\n",
       "      <td>1</td>\n",
       "      <td>1</td>\n",
       "      <td>0</td>\n",
       "      <td>0</td>\n",
       "      <td>0</td>\n",
       "      <td>0</td>\n",
       "    </tr>\n",
       "  </tbody>\n",
       "</table>\n",
       "</div>"
      ],
      "text/plain": [
       "   id    age  gender  height  weight  ap_hi  ap_lo  cholesterol  gluc  smoke  \\\n",
       "0   0  18393       2     168    62.0    110     80            1     1      0   \n",
       "1   1  20228       1     156    85.0    140     90            3     1      0   \n",
       "2   2  18857       1     165    64.0    130     70            3     1      0   \n",
       "3   3  17623       2     169    82.0    150    100            1     1      0   \n",
       "4   4  17474       1     156    56.0    100     60            1     1      0   \n",
       "\n",
       "   alco  active  cardio  \n",
       "0     0       1       0  \n",
       "1     0       1       1  \n",
       "2     0       0       1  \n",
       "3     0       1       1  \n",
       "4     0       0       0  "
      ]
     },
     "execution_count": 2,
     "metadata": {},
     "output_type": "execute_result"
    }
   ],
   "source": [
    "df = pd.read_csv(\"caardio_train.csv\")\n",
    "df.head()"
   ]
  },
  {
   "cell_type": "markdown",
   "metadata": {},
   "source": [
    "# Data Cleaning"
   ]
  },
  {
   "cell_type": "code",
   "execution_count": 3,
   "metadata": {},
   "outputs": [],
   "source": [
    "df.drop(\"id\",axis=1,inplace=True)"
   ]
  },
  {
   "cell_type": "code",
   "execution_count": 4,
   "metadata": {},
   "outputs": [],
   "source": [
    "df.drop_duplicates(inplace=True)"
   ]
  },
  {
   "cell_type": "code",
   "execution_count": 5,
   "metadata": {},
   "outputs": [
    {
     "data": {
      "text/plain": [
       "age            0\n",
       "gender         0\n",
       "height         0\n",
       "weight         0\n",
       "ap_hi          0\n",
       "ap_lo          0\n",
       "cholesterol    0\n",
       "gluc           0\n",
       "smoke          0\n",
       "alco           0\n",
       "active         0\n",
       "cardio         0\n",
       "dtype: int64"
      ]
     },
     "execution_count": 5,
     "metadata": {},
     "output_type": "execute_result"
    }
   ],
   "source": [
    "df.isnull().sum()"
   ]
  },
  {
   "cell_type": "code",
   "execution_count": 6,
   "metadata": {},
   "outputs": [
    {
     "data": {
      "text/plain": [
       "1    32769\n",
       "0    32745\n",
       "Name: cardio, dtype: int64"
      ]
     },
     "execution_count": 6,
     "metadata": {},
     "output_type": "execute_result"
    }
   ],
   "source": [
    "df['cardio'].value_counts()"
   ]
  },
  {
   "cell_type": "markdown",
   "metadata": {},
   "source": [
    "# EDA"
   ]
  },
  {
   "cell_type": "code",
   "execution_count": 7,
   "metadata": {},
   "outputs": [
    {
     "data": {
      "image/png": "[encoded data removed]",
      "text/plain": [
       "<Figure size 432x288 with 1 Axes>"
      ]
     },
     "metadata": {
      "needs_background": "light"
     },
     "output_type": "display_data"
    }
   ],
   "source": [
    "# Let us first have a look at our target variable.\n",
    "fig, ax = plt.subplots(1,1)\n",
    "sns.countplot(df['cardio'], ax = ax)\n",
    "for i in ax.patches:\n",
    "    height = i.get_height()\n",
    "    ax.text(i.get_x()+i.get_width()/2,height,'{:.2f}'.format((i.get_height()/len(df['cardio']))*100,'%'))\n",
    "plt.show()"
   ]
  },
  {
   "cell_type": "code",
   "execution_count": 8,
   "metadata": {},
   "outputs": [],
   "source": [
    "# Age is given in days. Transforming it into years for better understanding and checking relation \n",
    "# with the target variable.\n",
    "df['age'] = df['age']/365"
   ]
  },
  {
   "cell_type": "code",
   "execution_count": 9,
   "metadata": {
    "scrolled": false
   },
   "outputs": [
    {
     "name": "stderr",
     "output_type": "stream",
     "text": [
      "No handles with labels found to put in legend.\n"
     ]
    },
    {
     "data": {
      "image/png": "[encoded data removed]",
      "text/plain": [
       "<Figure size 1440x720 with 2 Axes>"
      ]
     },
     "metadata": {
      "needs_background": "light"
     },
     "output_type": "display_data"
    }
   ],
   "source": [
    "fig, (ax1,ax2) = plt.subplots(1,2, figsize=(20,10))\n",
    "sns.distplot(df['age'][df['cardio']==0], ax = ax1, color='green')\n",
    "sns.distplot(df['age'][df['cardio']==1], ax = ax1,color='coral')\n",
    "ax1.set_title('Age Distribution')\n",
    "ax1.legend()\n",
    "\n",
    "\n",
    "sns.distplot(df['age'][(df['gender']==1) & (df['cardio']==1)],ax = ax2,color='pink')\n",
    "sns.distplot(df['age'][(df['gender']==2) & (df['cardio']==1)],ax = ax2,color='blue')\n",
    "ax2.set_title('Disease count distribution by  gender')\n",
    "plt.show()\n"
   ]
  },
  {
   "cell_type": "code",
   "execution_count": 10,
   "metadata": {
    "scrolled": true
   },
   "outputs": [
    {
     "data": {
      "image/png": "[encoded data removed]",
      "text/plain": [
       "<Figure size 432x288 with 2 Axes>"
      ]
     },
     "metadata": {
      "needs_background": "light"
     },
     "output_type": "display_data"
    }
   ],
   "source": [
    "# cholesterol\n",
    "tmp = pd.crosstab(df['cholesterol'],df['cardio'],normalize='index')\n",
    "tmp.reset_index()\n",
    "tmp.columns = ['not diseased','diseased']\n",
    "fig, ax = plt.subplots(1,1)\n",
    "sns.countplot(df['cholesterol'],order=list(tmp.index), ax=ax)\n",
    "plot2 = ax.twinx()\n",
    "sns.pointplot(tmp.index,tmp['diseased'],order=list(tmp.index),ax=plot2)\n",
    "for patch in ax.patches:\n",
    "    height = patch.get_height()\n",
    "    ax.text(patch.get_x()+patch.get_width()/2,height,'{:.2f}{}'.format(height/len(df['cholesterol'])*100,'%'))\n",
    "plt.show()"
   ]
  },
  {
   "cell_type": "code",
   "execution_count": 11,
   "metadata": {},
   "outputs": [
    {
     "data": {
      "image/png": "[encoded data removed]",
      "text/plain": [
       "<Figure size 432x288 with 2 Axes>"
      ]
     },
     "metadata": {
      "needs_background": "light"
     },
     "output_type": "display_data"
    }
   ],
   "source": [
    "# Glucose\n",
    "tmp = pd.crosstab(df['gluc'],df['cardio'],normalize='index')\n",
    "tmp.reset_index()\n",
    "tmp.columns = ['not diseased','diseased']\n",
    "fig, ax = plt.subplots(1,1)\n",
    "sns.countplot(df['gluc'],order=list(tmp.index), ax=ax)\n",
    "plot2 = ax.twinx()\n",
    "sns.pointplot(tmp.index,tmp['diseased'],order=list(tmp.index),ax=plot2)\n",
    "for patch in ax.patches:\n",
    "    height = patch.get_height()\n",
    "    ax.text(patch.get_x()+patch.get_width()/2,height,'{:.2f}{}'.format(height/len(df['gluc'])*100,'%'))\n",
    "plt.show()"
   ]
  },
  {
   "cell_type": "markdown",
   "metadata": {},
   "source": [
    "# Data Preprocessing"
   ]
  },
  {
   "cell_type": "code",
   "execution_count": 12,
   "metadata": {
    "scrolled": false
   },
   "outputs": [
    {
     "name": "stdout",
     "output_type": "stream",
     "text": [
      "Normal systolic blood pressure range is between 90 and 120. However, from our dataset we can see that we have 9558 records that are not falling within the normal range. We can replace them with their median values.\n"
     ]
    }
   ],
   "source": [
    "# ap_hi\n",
    "filt = (df['ap_hi']<90) | (df['ap_hi']>140)\n",
    "print(f'Normal systolic blood pressure range is between 90 and 120. However, from our dataset we can see that we have {len(df[filt])} records that are not falling within the normal range. We can replace them with their median values.')\n"
   ]
  },
  {
   "cell_type": "code",
   "execution_count": 13,
   "metadata": {},
   "outputs": [],
   "source": [
    "df['ap_hi'].replace(df[filt]['ap_hi'].values,df['ap_hi'].median(),inplace=True)"
   ]
  },
  {
   "cell_type": "code",
   "execution_count": 14,
   "metadata": {},
   "outputs": [],
   "source": [
    "# BMI = weight(kg)/height(m2)\n",
    "df['BMI'] = df['weight']/(((df['height']/0.0328084)*.01)**2)"
   ]
  },
  {
   "cell_type": "code",
   "execution_count": 15,
   "metadata": {},
   "outputs": [
    {
     "data": {
      "text/plain": [
       "1    21576\n",
       "3     5796\n",
       "2     5397\n",
       "Name: cholesterol, dtype: int64"
      ]
     },
     "execution_count": 15,
     "metadata": {},
     "output_type": "execute_result"
    }
   ],
   "source": [
    "df[df['cardio']==1]['cholesterol'].value_counts()"
   ]
  },
  {
   "cell_type": "code",
   "execution_count": 16,
   "metadata": {},
   "outputs": [
    {
     "data": {
      "text/plain": [
       "1    27420\n",
       "2     3563\n",
       "3     1762\n",
       "Name: cholesterol, dtype: int64"
      ]
     },
     "execution_count": 16,
     "metadata": {},
     "output_type": "execute_result"
    }
   ],
   "source": [
    "df[df['cardio']==0]['cholesterol'].value_counts()"
   ]
  },
  {
   "cell_type": "code",
   "execution_count": 17,
   "metadata": {},
   "outputs": [],
   "source": [
    "x = df.drop('cardio', axis=1)\n",
    "y = df['cardio']\n",
    "x[\"age\"] = RobustScaler().fit_transform(x[\"age\"].values.reshape(-1,1))\n",
    "x[\"height\"] = RobustScaler().fit_transform(x[\"height\"].values.reshape(-1,1))\n",
    "x[\"weight\"] = RobustScaler().fit_transform(x[\"weight\"].values.reshape(-1,1))\n",
    "x[\"ap_lo\"] = RobustScaler().fit_transform(x[\"ap_lo\"].values.reshape(-1,1))\n",
    "x[\"ap_hi\"] = RobustScaler().fit_transform(x[\"ap_hi\"].values.reshape(-1,1))\n",
    "x[\"BMI\"] = RobustScaler().fit_transform(x[\"ap_hi\"].values.reshape(-1,1))"
   ]
  },
  {
   "cell_type": "markdown",
   "metadata": {},
   "source": [
    "# Train Test Split"
   ]
  },
  {
   "cell_type": "code",
   "execution_count": 18,
   "metadata": {},
   "outputs": [],
   "source": [
    "x_train,x_test, y_train, y_test = train_test_split(x,y,test_size=0.2,random_state=42)"
   ]
  },
  {
   "cell_type": "markdown",
   "metadata": {},
   "source": [
    "# Model"
   ]
  },
  {
   "cell_type": "markdown",
   "metadata": {},
   "source": [
    "## Logistic Regression"
   ]
  },
  {
   "cell_type": "code",
   "execution_count": 69,
   "metadata": {},
   "outputs": [
    {
     "name": "stderr",
     "output_type": "stream",
     "text": [
      "[Parallel(n_jobs=1)]: Using backend SequentialBackend with 1 concurrent workers.\n",
      "[Parallel(n_jobs=1)]: Done   1 out of   1 | elapsed:    0.6s finished\n"
     ]
    },
    {
     "data": {
      "text/plain": [
       "0.6841944592841334"
      ]
     },
     "execution_count": 69,
     "metadata": {},
     "output_type": "execute_result"
    }
   ],
   "source": [
    "logreg = LogisticRegression(\n",
    "    penalty='l2',\n",
    "    dual=False,\n",
    "    tol=0.0001,\n",
    "    C=1.7,\n",
    "    fit_intercept=True,\n",
    "    intercept_scaling=1,\n",
    "    class_weight={1:0.5, 0:0.5},\n",
    "    random_state=31,\n",
    "    solver='lbfgs',\n",
    "    max_iter=10000,\n",
    "    multi_class='auto',\n",
    "    verbose=1,\n",
    "    warm_start=True,\n",
    "    n_jobs=None,\n",
    "    l1_ratio=None)\n",
    "\n",
    "logreg.fit(x_train, y_train)\n",
    "ypred = logreg.predict(x_test)\n",
    "accuracy_score(y_test, ypred)"
   ]
  },
  {
   "cell_type": "markdown",
   "metadata": {},
   "source": [
    "## Random Forest"
   ]
  },
  {
   "cell_type": "code",
   "execution_count": 89,
   "metadata": {},
   "outputs": [
    {
     "data": {
      "text/plain": [
       "0.7227352514691292"
      ]
     },
     "execution_count": 89,
     "metadata": {},
     "output_type": "execute_result"
    }
   ],
   "source": [
    "rf = RandomForestClassifier(n_estimators=100,\n",
    "    criterion='gini',\n",
    "    max_depth=12,\n",
    "    min_samples_split=3,\n",
    "    min_samples_leaf=1,\n",
    "    min_weight_fraction_leaf=0.0,\n",
    "    max_features='auto',\n",
    "    max_leaf_nodes=None,\n",
    "    min_impurity_decrease=0.0,\n",
    "    min_impurity_split=None,\n",
    "    bootstrap=True,\n",
    "    oob_score=False,\n",
    "    n_jobs=None,\n",
    "    random_state=42,\n",
    "    verbose=0,\n",
    "    warm_start=False,\n",
    "    class_weight=None,\n",
    "    ccp_alpha=0.0,\n",
    "    max_samples=None,)\n",
    "\n",
    "rf.fit(x_train, y_train)\n",
    "ypred = rf.predict(x_test)\n",
    "accuracy_score(y_test, ypred)"
   ]
  },
  {
   "cell_type": "code",
   "execution_count": 22,
   "metadata": {},
   "outputs": [],
   "source": []
  },
  {
   "cell_type": "code",
   "execution_count": 23,
   "metadata": {},
   "outputs": [
    {
     "data": {
      "text/plain": [
       "0.6994581393573991"
      ]
     },
     "execution_count": 23,
     "metadata": {},
     "output_type": "execute_result"
    }
   ],
   "source": []
  },
  {
   "cell_type": "markdown",
   "metadata": {},
   "source": [
    "## LGBM"
   ]
  },
  {
   "cell_type": "code",
   "execution_count": 24,
   "metadata": {},
   "outputs": [],
   "source": [
    "lgb = LGBMClassifier(num_leaves=31, n_estimators=700, learning_rate=0.01)"
   ]
  },
  {
   "cell_type": "code",
   "execution_count": 25,
   "metadata": {},
   "outputs": [
    {
     "data": {
      "text/plain": [
       "LGBMClassifier(boosting_type='gbdt', class_weight=None, colsample_bytree=1.0,\n",
       "               importance_type='split', learning_rate=0.01, max_depth=-1,\n",
       "               min_child_samples=20, min_child_weight=0.001, min_split_gain=0.0,\n",
       "               n_estimators=700, n_jobs=-1, num_leaves=31, objective=None,\n",
       "               random_state=None, reg_alpha=0.0, reg_lambda=0.0, silent=True,\n",
       "               subsample=1.0, subsample_for_bin=200000, subsample_freq=0)"
      ]
     },
     "execution_count": 25,
     "metadata": {},
     "output_type": "execute_result"
    }
   ],
   "source": [
    "lgb.fit(x_train, y_train)"
   ]
  },
  {
   "cell_type": "code",
   "execution_count": 26,
   "metadata": {},
   "outputs": [],
   "source": [
    "y_test_pred = lgb.predict(x_test)"
   ]
  },
  {
   "cell_type": "code",
   "execution_count": 27,
   "metadata": {},
   "outputs": [
    {
     "data": {
      "text/plain": [
       "0.7207509730596047"
      ]
     },
     "execution_count": 27,
     "metadata": {},
     "output_type": "execute_result"
    }
   ],
   "source": [
    "accuracy_score(y_test, y_test_pred)"
   ]
  },
  {
   "cell_type": "code",
   "execution_count": 28,
   "metadata": {},
   "outputs": [
    {
     "data": {
      "text/plain": [
       "0.7341397798172139"
      ]
     },
     "execution_count": 28,
     "metadata": {},
     "output_type": "execute_result"
    }
   ],
   "source": [
    "y_train_pred = lgb.predict(x_train)\n",
    "accuracy_score(y_train, y_train_pred)"
   ]
  },
  {
   "cell_type": "code",
   "execution_count": null,
   "metadata": {},
   "outputs": [],
   "source": []
  },
  {
   "cell_type": "code",
   "execution_count": null,
   "metadata": {},
   "outputs": [],
   "source": []
  },
  {
   "cell_type": "code",
   "execution_count": null,
   "metadata": {},
   "outputs": [],
   "source": []
  },
  {
   "cell_type": "code",
   "execution_count": null,
   "metadata": {},
   "outputs": [],
   "source": []
  },
  {
   "cell_type": "markdown",
   "metadata": {},
   "source": [
    "## out of the box"
   ]
  },
  {
   "cell_type": "code",
   "execution_count": 29,
   "metadata": {},
   "outputs": [
    {
     "name": "stderr",
     "output_type": "stream",
     "text": [
      "/home/deepak/anaconda3/lib/python3.6/site-packages/tensorflow/python/framework/dtypes.py:516: FutureWarning: Passing (type, 1) or '1type' as a synonym of type is deprecated; in a future version of numpy, it will be understood as (type, (1,)) / '(1,)type'.\n",
      "  _np_qint8 = np.dtype([(\"qint8\", np.int8, 1)])\n",
      "/home/deepak/anaconda3/lib/python3.6/site-packages/tensorflow/python/framework/dtypes.py:517: FutureWarning: Passing (type, 1) or '1type' as a synonym of type is deprecated; in a future version of numpy, it will be understood as (type, (1,)) / '(1,)type'.\n",
      "  _np_quint8 = np.dtype([(\"quint8\", np.uint8, 1)])\n",
      "/home/deepak/anaconda3/lib/python3.6/site-packages/tensorflow/python/framework/dtypes.py:518: FutureWarning: Passing (type, 1) or '1type' as a synonym of type is deprecated; in a future version of numpy, it will be understood as (type, (1,)) / '(1,)type'.\n",
      "  _np_qint16 = np.dtype([(\"qint16\", np.int16, 1)])\n",
      "/home/deepak/anaconda3/lib/python3.6/site-packages/tensorflow/python/framework/dtypes.py:519: FutureWarning: Passing (type, 1) or '1type' as a synonym of type is deprecated; in a future version of numpy, it will be understood as (type, (1,)) / '(1,)type'.\n",
      "  _np_quint16 = np.dtype([(\"quint16\", np.uint16, 1)])\n",
      "/home/deepak/anaconda3/lib/python3.6/site-packages/tensorflow/python/framework/dtypes.py:520: FutureWarning: Passing (type, 1) or '1type' as a synonym of type is deprecated; in a future version of numpy, it will be understood as (type, (1,)) / '(1,)type'.\n",
      "  _np_qint32 = np.dtype([(\"qint32\", np.int32, 1)])\n",
      "/home/deepak/anaconda3/lib/python3.6/site-packages/tensorflow/python/framework/dtypes.py:525: FutureWarning: Passing (type, 1) or '1type' as a synonym of type is deprecated; in a future version of numpy, it will be understood as (type, (1,)) / '(1,)type'.\n",
      "  np_resource = np.dtype([(\"resource\", np.ubyte, 1)])\n",
      "/home/deepak/anaconda3/lib/python3.6/site-packages/tensorboard/compat/tensorflow_stub/dtypes.py:541: FutureWarning: Passing (type, 1) or '1type' as a synonym of type is deprecated; in a future version of numpy, it will be understood as (type, (1,)) / '(1,)type'.\n",
      "  _np_qint8 = np.dtype([(\"qint8\", np.int8, 1)])\n",
      "/home/deepak/anaconda3/lib/python3.6/site-packages/tensorboard/compat/tensorflow_stub/dtypes.py:542: FutureWarning: Passing (type, 1) or '1type' as a synonym of type is deprecated; in a future version of numpy, it will be understood as (type, (1,)) / '(1,)type'.\n",
      "  _np_quint8 = np.dtype([(\"quint8\", np.uint8, 1)])\n",
      "/home/deepak/anaconda3/lib/python3.6/site-packages/tensorboard/compat/tensorflow_stub/dtypes.py:543: FutureWarning: Passing (type, 1) or '1type' as a synonym of type is deprecated; in a future version of numpy, it will be understood as (type, (1,)) / '(1,)type'.\n",
      "  _np_qint16 = np.dtype([(\"qint16\", np.int16, 1)])\n",
      "/home/deepak/anaconda3/lib/python3.6/site-packages/tensorboard/compat/tensorflow_stub/dtypes.py:544: FutureWarning: Passing (type, 1) or '1type' as a synonym of type is deprecated; in a future version of numpy, it will be understood as (type, (1,)) / '(1,)type'.\n",
      "  _np_quint16 = np.dtype([(\"quint16\", np.uint16, 1)])\n",
      "/home/deepak/anaconda3/lib/python3.6/site-packages/tensorboard/compat/tensorflow_stub/dtypes.py:545: FutureWarning: Passing (type, 1) or '1type' as a synonym of type is deprecated; in a future version of numpy, it will be understood as (type, (1,)) / '(1,)type'.\n",
      "  _np_qint32 = np.dtype([(\"qint32\", np.int32, 1)])\n",
      "/home/deepak/anaconda3/lib/python3.6/site-packages/tensorboard/compat/tensorflow_stub/dtypes.py:550: FutureWarning: Passing (type, 1) or '1type' as a synonym of type is deprecated; in a future version of numpy, it will be understood as (type, (1,)) / '(1,)type'.\n",
      "  np_resource = np.dtype([(\"resource\", np.ubyte, 1)])\n"
     ]
    }
   ],
   "source": [
    "import tensorflow as tf\n",
    "from tensorflow import keras\n",
    "from tensorflow.keras import layers\n",
    "from tensorflow.keras.models import Sequential\n",
    "from tensorflow.keras.layers import Dense, Dropout, BatchNormalization"
   ]
  },
  {
   "cell_type": "code",
   "execution_count": 89,
   "metadata": {},
   "outputs": [],
   "source": [
    "# x_train['f_lgbm'] = y_train_pred\n",
    "# x_test['f_lgbm'] = y_test_pred"
   ]
  },
  {
   "cell_type": "code",
   "execution_count": 90,
   "metadata": {},
   "outputs": [
    {
     "data": {
      "text/plain": [
       "StandardScaler(copy=True, with_mean=True, with_std=True)"
      ]
     },
     "execution_count": 90,
     "metadata": {},
     "output_type": "execute_result"
    }
   ],
   "source": [
    "# #Normalizing the data\n",
    "# from sklearn.preprocessing import StandardScaler\n",
    "# sc = StandardScaler()\n",
    "# sc.fit(x_train)"
   ]
  },
  {
   "cell_type": "code",
   "execution_count": 91,
   "metadata": {},
   "outputs": [],
   "source": [
    "# x_train = sc.transform(x_train)\n",
    "# x_test = sc.transform(x_test)"
   ]
  },
  {
   "cell_type": "code",
   "execution_count": 92,
   "metadata": {},
   "outputs": [
    {
     "name": "stdout",
     "output_type": "stream",
     "text": [
      "(52411, 12)\n",
      "(13103, 12)\n"
     ]
    }
   ],
   "source": [
    "print(x_train.shape)\n",
    "print(x_test.shape)"
   ]
  },
  {
   "cell_type": "code",
   "execution_count": 182,
   "metadata": {},
   "outputs": [],
   "source": [
    "model = tf.keras.Sequential()\n",
    "model.add(tf.keras.layers.Dense(12, input_shape=(12,)))\n",
    "model.add(tf.keras.layers.Dropout(0.25))\n",
    "model.add(tf.keras.layers.Dense(32, activation='relu', kernel_regularizer='l2'))\n",
    "model.add(tf.keras.layers.BatchNormalization())\n",
    "model.add(tf.keras.layers.Dense(16, activation='relu', kernel_regularizer='l2'))\n",
    "model.add(tf.keras.layers.Dense(8, activation='relu', kernel_regularizer='l2'))\n",
    "# model.add(tf.keras.layers.Dense(4, activation='softmax'))\n",
    "model.add(tf.keras.layers.Dense(1, activation='sigmoid'))\n",
    "lr_schedule = keras.optimizers.schedules.ExponentialDecay(initial_learning_rate=1e-3, decay_steps=10000,\n",
    "                                                          decay_rate=0.9)\n",
    "opt = tf.keras.optimizers.Adam()#learning_rate=lr_schedule)\n",
    "model.compile(optimizer=opt, loss=tf.keras.losses.BinaryCrossentropy(), metrics=[tf.keras.metrics.Accuracy()])"
   ]
  },
  {
   "cell_type": "code",
   "execution_count": 191,
   "metadata": {
    "scrolled": false
   },
   "outputs": [
    {
     "name": "stdout",
     "output_type": "stream",
     "text": [
      "Epoch 1/100\n",
      "52411/52411 [==============================] - 2s 43us/sample - loss: 0.5677 - accuracy: 0.0000e+00\n",
      "Epoch 2/100\n",
      "52411/52411 [==============================] - 2s 41us/sample - loss: 0.5674 - accuracy: 0.0000e+00\n",
      "Epoch 3/100\n",
      "52411/52411 [==============================] - 2s 41us/sample - loss: 0.5671 - accuracy: 0.0000e+00\n",
      "Epoch 4/100\n",
      "52411/52411 [==============================] - 2s 41us/sample - loss: 0.5677 - accuracy: 0.0000e+00\n",
      "Epoch 5/100\n",
      "52411/52411 [==============================] - 2s 41us/sample - loss: 0.5687 - accuracy: 0.0000e+00\n",
      "Epoch 6/100\n",
      "52411/52411 [==============================] - 2s 43us/sample - loss: 0.5684 - accuracy: 0.0000e+00\n",
      "Epoch 7/100\n",
      "52411/52411 [==============================] - 2s 39us/sample - loss: 0.5684 - accuracy: 0.0000e+00\n",
      "Epoch 8/100\n",
      "52411/52411 [==============================] - 2s 32us/sample - loss: 0.5682 - accuracy: 0.0000e+00\n",
      "Epoch 9/100\n",
      "52411/52411 [==============================] - 2s 32us/sample - loss: 0.5681 - accuracy: 0.0000e+00\n",
      "Epoch 10/100\n",
      "52411/52411 [==============================] - 2s 38us/sample - loss: 0.5668 - accuracy: 0.0000e+00\n",
      "Epoch 11/100\n",
      "52411/52411 [==============================] - 2s 44us/sample - loss: 0.5677 - accuracy: 0.0000e+00\n",
      "Epoch 12/100\n",
      "52411/52411 [==============================] - 2s 40us/sample - loss: 0.5672 - accuracy: 0.0000e+00\n",
      "Epoch 13/100\n",
      "52411/52411 [==============================] - 2s 41us/sample - loss: 0.5675 - accuracy: 0.0000e+00\n",
      "Epoch 14/100\n",
      "52411/52411 [==============================] - 2s 40us/sample - loss: 0.5672 - accuracy: 0.0000e+00\n",
      "Epoch 15/100\n",
      "52411/52411 [==============================] - 2s 41us/sample - loss: 0.5676 - accuracy: 0.0000e+00\n",
      "Epoch 16/100\n",
      "52411/52411 [==============================] - 2s 42us/sample - loss: 0.5667 - accuracy: 0.0000e+00\n",
      "Epoch 17/100\n",
      "52411/52411 [==============================] - 2s 41us/sample - loss: 0.5665 - accuracy: 0.0000e+00\n",
      "Epoch 18/100\n",
      "52411/52411 [==============================] - 2s 40us/sample - loss: 0.5679 - accuracy: 0.0000e+00\n",
      "Epoch 19/100\n",
      "52411/52411 [==============================] - 2s 39us/sample - loss: 0.5678 - accuracy: 0.0000e+00\n",
      "Epoch 20/100\n",
      "52411/52411 [==============================] - 2s 43us/sample - loss: 0.5667 - accuracy: 0.0000e+00\n",
      "Epoch 21/100\n",
      "52411/52411 [==============================] - 2s 38us/sample - loss: 0.5676 - accuracy: 0.0000e+00\n",
      "Epoch 22/100\n",
      "52411/52411 [==============================] - 2s 40us/sample - loss: 0.5670 - accuracy: 0.0000e+00\n",
      "Epoch 23/100\n",
      "52411/52411 [==============================] - 2s 40us/sample - loss: 0.5666 - accuracy: 0.0000e+00\n",
      "Epoch 24/100\n",
      "52411/52411 [==============================] - 2s 42us/sample - loss: 0.5675 - accuracy: 0.0000e+00\n",
      "Epoch 25/100\n",
      "52411/52411 [==============================] - 2s 42us/sample - loss: 0.5677 - accuracy: 0.0000e+00\n",
      "Epoch 26/100\n",
      "52411/52411 [==============================] - 2s 41us/sample - loss: 0.5661 - accuracy: 0.0000e+00\n",
      "Epoch 27/100\n",
      "52411/52411 [==============================] - 2s 40us/sample - loss: 0.5677 - accuracy: 0.0000e+00\n",
      "Epoch 28/100\n",
      "52411/52411 [==============================] - 2s 44us/sample - loss: 0.5672 - accuracy: 0.0000e+00\n",
      "Epoch 29/100\n",
      "52411/52411 [==============================] - 2s 42us/sample - loss: 0.5675 - accuracy: 0.0000e+00\n",
      "Epoch 30/100\n",
      "52411/52411 [==============================] - 2s 44us/sample - loss: 0.5676 - accuracy: 0.0000e+00\n",
      "Epoch 31/100\n",
      "52411/52411 [==============================] - 2s 42us/sample - loss: 0.5671 - accuracy: 0.0000e+00\n",
      "Epoch 32/100\n",
      "52411/52411 [==============================] - 2s 46us/sample - loss: 0.5675 - accuracy: 0.0000e+00\n",
      "Epoch 33/100\n",
      "52411/52411 [==============================] - 2s 44us/sample - loss: 0.5672 - accuracy: 0.0000e+00\n",
      "Epoch 34/100\n",
      "52411/52411 [==============================] - 2s 40us/sample - loss: 0.5675 - accuracy: 0.0000e+00\n",
      "Epoch 35/100\n",
      "52411/52411 [==============================] - 2s 42us/sample - loss: 0.5677 - accuracy: 0.0000e+00\n",
      "Epoch 36/100\n",
      "52411/52411 [==============================] - 2s 41us/sample - loss: 0.5668 - accuracy: 0.0000e+00\n",
      "Epoch 37/100\n",
      "52411/52411 [==============================] - 2s 41us/sample - loss: 0.5668 - accuracy: 0.0000e+00\n",
      "Epoch 38/100\n",
      "52411/52411 [==============================] - 2s 44us/sample - loss: 0.5667 - accuracy: 0.0000e+00\n",
      "Epoch 39/100\n",
      "52411/52411 [==============================] - 2s 41us/sample - loss: 0.5668 - accuracy: 0.0000e+00\n",
      "Epoch 40/100\n",
      "52411/52411 [==============================] - 2s 42us/sample - loss: 0.5672 - accuracy: 0.0000e+00\n",
      "Epoch 41/100\n",
      "52411/52411 [==============================] - 2s 41us/sample - loss: 0.5666 - accuracy: 0.0000e+00\n",
      "Epoch 42/100\n",
      "52411/52411 [==============================] - 2s 41us/sample - loss: 0.5667 - accuracy: 0.0000e+00\n",
      "Epoch 43/100\n",
      "52411/52411 [==============================] - 2s 42us/sample - loss: 0.5675 - accuracy: 0.0000e+00\n",
      "Epoch 44/100\n",
      "52411/52411 [==============================] - 2s 41us/sample - loss: 0.5671 - accuracy: 0.0000e+00\n",
      "Epoch 45/100\n",
      "52411/52411 [==============================] - 2s 42us/sample - loss: 0.5677 - accuracy: 0.0000e+00\n",
      "Epoch 46/100\n",
      "52411/52411 [==============================] - 2s 43us/sample - loss: 0.5669 - accuracy: 0.0000e+00\n",
      "Epoch 47/100\n",
      "52411/52411 [==============================] - 2s 42us/sample - loss: 0.5664 - accuracy: 0.0000e+00\n",
      "Epoch 48/100\n",
      "52411/52411 [==============================] - 2s 41us/sample - loss: 0.5673 - accuracy: 0.0000e+00\n",
      "Epoch 49/100\n",
      "52411/52411 [==============================] - 2s 41us/sample - loss: 0.5662 - accuracy: 0.0000e+00\n",
      "Epoch 50/100\n",
      "52411/52411 [==============================] - 2s 44us/sample - loss: 0.5670 - accuracy: 0.0000e+00\n",
      "Epoch 51/100\n",
      "52411/52411 [==============================] - 2s 44us/sample - loss: 0.5664 - accuracy: 0.0000e+00\n",
      "Epoch 52/100\n",
      "52411/52411 [==============================] - 2s 43us/sample - loss: 0.5675 - accuracy: 0.0000e+00\n",
      "Epoch 53/100\n",
      "52411/52411 [==============================] - 2s 42us/sample - loss: 0.5675 - accuracy: 0.0000e+00\n",
      "Epoch 54/100\n",
      "52411/52411 [==============================] - 3s 49us/sample - loss: 0.5676 - accuracy: 0.0000e+00\n",
      "Epoch 55/100\n",
      "52411/52411 [==============================] - 2s 34us/sample - loss: 0.5676 - accuracy: 0.0000e+00\n",
      "Epoch 56/100\n",
      "52411/52411 [==============================] - 2s 36us/sample - loss: 0.5676 - accuracy: 0.0000e+00\n",
      "Epoch 57/100\n",
      "52411/52411 [==============================] - 6s 114us/sample - loss: 0.5669 - accuracy: 0.0000e+00\n",
      "Epoch 58/100\n",
      "52411/52411 [==============================] - 6s 113us/sample - loss: 0.5666 - accuracy: 0.0000e+00\n",
      "Epoch 59/100\n",
      "52411/52411 [==============================] - 4s 69us/sample - loss: 0.5669 - accuracy: 0.0000e+00\n",
      "Epoch 60/100\n",
      "52411/52411 [==============================] - 2s 40us/sample - loss: 0.5673 - accuracy: 0.0000e+00\n",
      "Epoch 61/100\n",
      "52411/52411 [==============================] - 2s 40us/sample - loss: 0.5669 - accuracy: 0.0000e+00\n",
      "Epoch 62/100\n",
      "52411/52411 [==============================] - 2s 38us/sample - loss: 0.5678 - accuracy: 0.0000e+00\n",
      "Epoch 63/100\n",
      "52411/52411 [==============================] - 2s 41us/sample - loss: 0.5672 - accuracy: 0.0000e+00\n",
      "Epoch 64/100\n",
      "52411/52411 [==============================] - 2s 37us/sample - loss: 0.5673 - accuracy: 0.0000e+00\n",
      "Epoch 65/100\n",
      "52411/52411 [==============================] - 2s 41us/sample - loss: 0.5668 - accuracy: 0.0000e+00\n",
      "Epoch 66/100\n",
      "52411/52411 [==============================] - 2s 41us/sample - loss: 0.5677 - accuracy: 0.0000e+00\n",
      "Epoch 67/100\n",
      "52411/52411 [==============================] - 2s 47us/sample - loss: 0.5660 - accuracy: 0.0000e+00\n",
      "Epoch 68/100\n",
      "52411/52411 [==============================] - 10s 187us/sample - loss: 0.5664 - accuracy: 0.0000e+00\n",
      "Epoch 69/100\n",
      "52411/52411 [==============================] - 2s 30us/sample - loss: 0.5666 - accuracy: 0.0000e+00\n",
      "Epoch 70/100\n",
      "52411/52411 [==============================] - 12s 220us/sample - loss: 0.5661 - accuracy: 0.0000e+00\n",
      "Epoch 71/100\n",
      "52411/52411 [==============================] - 3s 48us/sample - loss: 0.5663 - accuracy: 0.0000e+00\n",
      "Epoch 72/100\n",
      "52411/52411 [==============================] - 3s 58us/sample - loss: 0.5666 - accuracy: 0.0000e+00\n",
      "Epoch 73/100\n",
      "52411/52411 [==============================] - 2s 33us/sample - loss: 0.5663 - accuracy: 0.0000e+00\n",
      "Epoch 74/100\n",
      "52411/52411 [==============================] - 5s 97us/sample - loss: 0.5670 - accuracy: 0.0000e+00\n",
      "Epoch 75/100\n",
      "52411/52411 [==============================] - 1s 28us/sample - loss: 0.5667 - accuracy: 0.0000e+00\n",
      "Epoch 76/100\n",
      "52411/52411 [==============================] - 1s 28us/sample - loss: 0.5676 - accuracy: 0.0000e+00\n",
      "Epoch 77/100\n",
      "52411/52411 [==============================] - 5s 89us/sample - loss: 0.5666 - accuracy: 0.0000e+00\n",
      "Epoch 78/100\n",
      "52411/52411 [==============================] - 13s 253us/sample - loss: 0.5675 - accuracy: 0.0000e+00\n",
      "Epoch 79/100\n",
      "52411/52411 [==============================] - 2s 39us/sample - loss: 0.5665 - accuracy: 0.0000e+00\n",
      "Epoch 80/100\n",
      "52411/52411 [==============================] - 2s 40us/sample - loss: 0.5661 - accuracy: 0.0000e+00\n",
      "Epoch 81/100\n",
      "52411/52411 [==============================] - 2s 40us/sample - loss: 0.5668 - accuracy: 0.0000e+00\n",
      "Epoch 82/100\n",
      "52411/52411 [==============================] - 2s 41us/sample - loss: 0.5662 - accuracy: 0.0000e+00\n",
      "Epoch 83/100\n",
      "52411/52411 [==============================] - 2s 40us/sample - loss: 0.5673 - accuracy: 0.0000e+00\n",
      "Epoch 84/100\n",
      "52411/52411 [==============================] - 2s 39us/sample - loss: 0.5661 - accuracy: 0.0000e+00\n",
      "Epoch 85/100\n",
      "52411/52411 [==============================] - 2s 41us/sample - loss: 0.5662 - accuracy: 0.0000e+00\n",
      "Epoch 86/100\n",
      "52411/52411 [==============================] - 2s 40us/sample - loss: 0.5666 - accuracy: 0.0000e+00\n",
      "Epoch 87/100\n",
      "52411/52411 [==============================] - 2s 37us/sample - loss: 0.5663 - accuracy: 0.0000e+00\n",
      "Epoch 88/100\n",
      "52411/52411 [==============================] - 2s 33us/sample - loss: 0.5669 - accuracy: 0.0000e+00\n",
      "Epoch 89/100\n",
      "52411/52411 [==============================] - 2s 33us/sample - loss: 0.5661 - accuracy: 0.0000e+00\n",
      "Epoch 90/100\n",
      "52411/52411 [==============================] - 2s 30us/sample - loss: 0.5658 - accuracy: 0.0000e+00\n",
      "Epoch 91/100\n",
      "52411/52411 [==============================] - 1s 28us/sample - loss: 0.5659 - accuracy: 0.0000e+00\n",
      "Epoch 92/100\n",
      "52411/52411 [==============================] - 1s 28us/sample - loss: 0.5653 - accuracy: 0.0000e+00\n",
      "Epoch 93/100\n",
      "52411/52411 [==============================] - 2s 29us/sample - loss: 0.5661 - accuracy: 0.0000e+00\n",
      "Epoch 94/100\n",
      "52411/52411 [==============================] - 1s 28us/sample - loss: 0.5659 - accuracy: 0.0000e+00\n",
      "Epoch 95/100\n",
      "52411/52411 [==============================] - 1s 28us/sample - loss: 0.5655 - accuracy: 0.0000e+00\n",
      "Epoch 96/100\n",
      "52411/52411 [==============================] - 1s 27us/sample - loss: 0.5668 - accuracy: 0.0000e+00\n",
      "Epoch 97/100\n",
      "52411/52411 [==============================] - 2s 29us/sample - loss: 0.5665 - accuracy: 0.0000e+00\n",
      "Epoch 98/100\n",
      "52411/52411 [==============================] - 1s 27us/sample - loss: 0.5661 - accuracy: 0.0000e+00\n",
      "Epoch 99/100\n",
      "52411/52411 [==============================] - 1090s 21ms/sample - loss: 0.5662 - accuracy: 0.0000e+00\n"
     ]
    },
    {
     "data": {
      "text/plain": [
       "<tensorflow.python.keras.callbacks.History at 0x7f7f8579bda0>"
      ]
     },
     "execution_count": 191,
     "metadata": {},
     "output_type": "execute_result"
    }
   ],
   "source": [
    "model.fit(x_train, y_train, batch_size=128, epochs=100)"
   ]
  },
  {
   "cell_type": "code",
   "execution_count": 192,
   "metadata": {},
   "outputs": [],
   "source": [
    "y_pred = model.predict(x_test)"
   ]
  },
  {
   "cell_type": "code",
   "execution_count": 193,
   "metadata": {},
   "outputs": [],
   "source": [
    "y_pred[y_pred > 0.5] = 1\n",
    "y_pred[y_pred <= 0.5] = 0"
   ]
  },
  {
   "cell_type": "code",
   "execution_count": 194,
   "metadata": {},
   "outputs": [
    {
     "data": {
      "text/plain": [
       "0.7132717698237045"
      ]
     },
     "execution_count": 194,
     "metadata": {},
     "output_type": "execute_result"
    }
   ],
   "source": [
    "accuracy_score(y_test, y_pred)"
   ]
  },
  {
   "cell_type": "code",
   "execution_count": null,
   "metadata": {},
   "outputs": [],
   "source": []
  }
 ],
 "metadata": {
  "kernelspec": {
   "display_name": "Python 3",
   "language": "python",
   "name": "python3"
  },
  "language_info": {
   "codemirror_mode": {
    "name": "ipython",
    "version": 3
   },
   "file_extension": ".py",
   "mimetype": "text/x-python",
   "name": "python",
   "nbconvert_exporter": "python",
   "pygments_lexer": "ipython3",
   "version": "3.6.10"
  }
 },
 "nbformat": 4,
 "nbformat_minor": 4
}
